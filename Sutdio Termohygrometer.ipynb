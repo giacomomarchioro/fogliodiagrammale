{
 "cells": [
  {
   "cell_type": "code",
   "execution_count": null,
   "metadata": {
    "collapsed": true
   },
   "outputs": [],
   "source": [
    "!pip install PyPDF4"
   ]
  },
  {
   "cell_type": "code",
   "execution_count": 4,
   "metadata": {
    "collapsed": true
   },
   "outputs": [],
   "source": [
    "#python 2.7 3.6 compatibility\n",
    "try:\n",
    "    input = raw_input\n",
    "except NameError:\n",
    "    pass"
   ]
  },
  {
   "cell_type": "markdown",
   "metadata": {},
   "source": [
    "The aim of this work is to provide a tool for digitizign charts from thermohygrographs. Thermohygrographs have been used in the last centuries and are still one of the most widly used instrument for monitoring the temperature and relative humidty values inside museums and collections of delicates Cultural Heritage objects. The information collected during the years, is important for understanding the influence of the conditions on the objects and get insights on the combined action of climate change and actions taken to control the environmental condition inside the bulding. However, there are currently a lack of tools for digitizing the mthermohygrogrphs charts collected, and retrieving data data can be later analyzed using modern data-analysis techniques. \n",
    "There are some works related Digitizing of Analogue Data-Charts from\n",
    "Thermohygrographs https://it.p.lodz.pl/file.php/12/2017-1/jacs-1-2017-radon.pdf\n",
    "Here, we present the digitalization of the data collected using the thermohygrograph Almoiraghi Mod. 1750/C. This hermohygrographs collectes the data in sheet with dimension(xxxx, xxxx) on the left pad of the sheet the user writes the location and the date where the data is located. The sheet consists of two plots on the plot on the top we have the temperature in a range between -35 to 45 °C. The plot on the bottom records the relative humidity (RH) in a range from 0 to 100%. \n",
    "The temperature plot is subdivided in 17 quadrands the distance between the major ticks is constant\n",
    "The RH plot is subdivided with 10 major ticks, each representing increasing of 10% of RH.In this case, because the response of the hygrometer is not linear, the distance between the ticks vary. \n",
    "These kind of hygrometers can usually measure with two velocity, the charts has hence a double x scale one can record a week the other during a day."
   ]
  },
  {
   "cell_type": "code",
   "execution_count": 20,
   "metadata": {
    "collapsed": true
   },
   "outputs": [],
   "source": [
    "import cv2\n",
    "import matplotlib.pyplot as plt\n",
    "import numpy as np\n",
    "from datetime import datetime,timedelta \n",
    "from scipy.interpolate import interp1d"
   ]
  },
  {
   "cell_type": "code",
   "execution_count": 6,
   "metadata": {
    "collapsed": true
   },
   "outputs": [],
   "source": [
    "path = r'/home/opdate/Projects/fogliodiagrammale/doc01377820200113132615.pdf'"
   ]
  },
  {
   "cell_type": "markdown",
   "metadata": {},
   "source": [
    "## Solution using PyPDF4"
   ]
  },
  {
   "cell_type": "code",
   "execution_count": 3,
   "metadata": {},
   "outputs": [
    {
     "ename": "NameError",
     "evalue": "name 'np' is not defined",
     "output_type": "error",
     "traceback": [
      "\u001b[0;31m---------------------------------------------------------------------------\u001b[0m",
      "\u001b[0;31mNameError\u001b[0m                                 Traceback (most recent call last)",
      "\u001b[0;32m<ipython-input-3-c1e06878b47c>\u001b[0m in \u001b[0;36m<module>\u001b[0;34m()\u001b[0m\n\u001b[1;32m     22\u001b[0m                 \u001b[0mimages\u001b[0m\u001b[0;34m.\u001b[0m\u001b[0mappend\u001b[0m\u001b[0;34m(\u001b[0m\u001b[0mimg\u001b[0m\u001b[0;34m)\u001b[0m\u001b[0;34m\u001b[0m\u001b[0m\n\u001b[1;32m     23\u001b[0m             \u001b[0;32melif\u001b[0m \u001b[0mxObject\u001b[0m\u001b[0;34m[\u001b[0m\u001b[0mobj\u001b[0m\u001b[0;34m]\u001b[0m\u001b[0;34m[\u001b[0m\u001b[0;34m'/Filter'\u001b[0m\u001b[0;34m]\u001b[0m \u001b[0;34m==\u001b[0m \u001b[0;34m'/DCTDecode'\u001b[0m\u001b[0;34m:\u001b[0m\u001b[0;34m\u001b[0m\u001b[0m\n\u001b[0;32m---> 24\u001b[0;31m                 \u001b[0mnparr\u001b[0m \u001b[0;34m=\u001b[0m \u001b[0mnp\u001b[0m\u001b[0;34m.\u001b[0m\u001b[0mfromstring\u001b[0m\u001b[0;34m(\u001b[0m\u001b[0mdata\u001b[0m\u001b[0;34m,\u001b[0m \u001b[0mnp\u001b[0m\u001b[0;34m.\u001b[0m\u001b[0muint8\u001b[0m\u001b[0;34m)\u001b[0m\u001b[0;34m\u001b[0m\u001b[0m\n\u001b[0m\u001b[1;32m     25\u001b[0m                 \u001b[0mimg\u001b[0m\u001b[0;34m=\u001b[0m \u001b[0mcv2\u001b[0m\u001b[0;34m.\u001b[0m\u001b[0mimdecode\u001b[0m\u001b[0;34m(\u001b[0m\u001b[0mnparr\u001b[0m\u001b[0;34m,\u001b[0m \u001b[0mcv2\u001b[0m\u001b[0;34m.\u001b[0m\u001b[0mIMREAD_COLOR\u001b[0m\u001b[0;34m)\u001b[0m\u001b[0;34m\u001b[0m\u001b[0m\n\u001b[1;32m     26\u001b[0m                 \u001b[0mimages\u001b[0m\u001b[0;34m.\u001b[0m\u001b[0mappend\u001b[0m\u001b[0;34m(\u001b[0m\u001b[0mimg\u001b[0m\u001b[0;34m)\u001b[0m\u001b[0;34m\u001b[0m\u001b[0m\n",
      "\u001b[0;31mNameError\u001b[0m: name 'np' is not defined"
     ]
    }
   ],
   "source": [
    "import PyPDF4\n",
    "from io import BytesIO\n",
    "from PIL import Image\n",
    "import cv2\n",
    "images = []\n",
    "with open(path,'rb') as pdf:\n",
    "    # https://stackoverflow.com/a/34116472/2132157\n",
    "    input1 = PyPDF4.PdfFileReader(pdf)\n",
    "    page0 = input1.getPage(0)\n",
    "    xObject = page0['/Resources']['/XObject'].getObject()\n",
    "    for obj in xObject:\n",
    "        if xObject[obj]['/Subtype'] == '/Image':\n",
    "            size = (xObject[obj]['/Width'], xObject[obj]['/Height'])\n",
    "            data = xObject[obj].getData()\n",
    "            if xObject[obj]['/ColorSpace'] == '/DeviceRGB':\n",
    "                mode = \"RGB\"\n",
    "            else:\n",
    "                mode = \"P\"\n",
    "\n",
    "            if xObject[obj]['/Filter'] == '/FlateDecode':\n",
    "                img = Image.frombytes(mode, size, data)\n",
    "                images.append(img)\n",
    "            elif xObject[obj]['/Filter'] == '/DCTDecode':\n",
    "                nparr = np.fromstring(data, np.uint8)\n",
    "                img= cv2.imdecode(nparr, cv2.IMREAD_COLOR)\n",
    "                images.append(img)\n",
    "            elif xObject[obj]['/Filter'] == '/JPXDecode':\n",
    "                img = Image.open(mode, size, data,decoder_name='PNG')\n",
    "                images.append(img)"
   ]
  },
  {
   "cell_type": "code",
   "execution_count": null,
   "metadata": {
    "collapsed": true
   },
   "outputs": [],
   "source": [
    "%qtconsole"
   ]
  },
  {
   "cell_type": "code",
   "execution_count": null,
   "metadata": {
    "collapsed": true
   },
   "outputs": [],
   "source": [
    "plt.imshow(np.rot90(images[0],1))"
   ]
  },
  {
   "cell_type": "markdown",
   "metadata": {},
   "source": [
    "The solution usion opencv and PyPDF4 seems returning some decoding errors.\n",
    "# Solution using pdf2image"
   ]
  },
  {
   "cell_type": "code",
   "execution_count": 7,
   "metadata": {},
   "outputs": [],
   "source": [
    "from pdf2image import convert_from_path\n",
    "images_p2i = convert_from_path(path)"
   ]
  },
  {
   "cell_type": "code",
   "execution_count": 41,
   "metadata": {},
   "outputs": [
    {
     "data": {
      "text/plain": [
       "<matplotlib.image.AxesImage at 0x7feef03fdd90>"
      ]
     },
     "execution_count": 41,
     "metadata": {},
     "output_type": "execute_result"
    }
   ],
   "source": [
    "plt.imshow(images_p2i[3])"
   ]
  },
  {
   "cell_type": "code",
   "execution_count": 42,
   "metadata": {},
   "outputs": [
    {
     "data": {
      "text/plain": [
       "<matplotlib.image.AxesImage at 0x7feedfde4690>"
      ]
     },
     "execution_count": 42,
     "metadata": {},
     "output_type": "execute_result"
    }
   ],
   "source": [
    "plt.imshow(np.array(images_p2i[0])[:,:,0])"
   ]
  },
  {
   "cell_type": "code",
   "execution_count": 10,
   "metadata": {
    "collapsed": true
   },
   "outputs": [],
   "source": [
    "img = np.array(images_p2i[3])"
   ]
  },
  {
   "cell_type": "code",
   "execution_count": null,
   "metadata": {
    "collapsed": true
   },
   "outputs": [],
   "source": []
  },
  {
   "cell_type": "code",
   "execution_count": 163,
   "metadata": {},
   "outputs": [
    {
     "name": "stdout",
     "output_type": "stream",
     "text": [
      "Using matplotlib backend: TkAgg\n",
      "\n",
      "      click  -->  release\n",
      "RH_plot = img[705:1399,116:1991]\n",
      "location = img[721:1385,3:102]\n",
      "datem = img[8:716,3:121]\n",
      "temperature_plot = img[22:680,113:1988]\n"
     ]
    }
   ],
   "source": [
    "%matplotlib\n",
    "from itertools import cycle\n",
    "titles = ['RH_plot','location','datem','temperature_plot','Close the plot']\n",
    "newarray = img\n",
    "c = [0]\n",
    "from matplotlib.widgets import RectangleSelector\n",
    "label = titles[0]\n",
    "fig, current_ax = plt.subplots()\n",
    "current_ax.imshow(newarray)\n",
    "current_ax.set_title(\"Drag a ROI over %s\" %titles[c[0]])\n",
    "\n",
    "def line_select_callback(eclick, erelease):\n",
    "    \n",
    "    'eclick and erelease are the press and release events'\n",
    "    x1, y1 = int(eclick.xdata), int(eclick.ydata)\n",
    "    x2, y2 = int(erelease.xdata), int(erelease.ydata)  \n",
    "    print(\"%s = img[%s:%s,%s:%s]\"% (titles[c[0]], y1, y2, x1, x2))\n",
    "    c[0]+=1\n",
    "    current_ax.set_title(\"Drag a ROI over %s\" %titles[c[0]])  \n",
    "    fig.canvas.draw()\n",
    "    fig.canvas.flush_events()\n",
    "    \n",
    "    \n",
    "    \n",
    "    \n",
    "\n",
    "\n",
    "def toggle_selector(event):\n",
    "    print(' Key pressed.')\n",
    "    if event.key in ['Q', 'q'] and toggle_selector.RS.active:\n",
    "        print(' RectangleSelector deactivated.')\n",
    "        toggle_selector.RS.set_active(False)\n",
    "    if event.key in ['A', 'a'] and not toggle_selector.RS.active:\n",
    "        print(' RectangleSelector activated.')\n",
    "        toggle_selector.RS.set_active(True)\n",
    "\n",
    "print(\"\\n      click  -->  release\")\n",
    "\n",
    "# drawtype is 'box' or 'line' or 'none'\n",
    "toggle_selector.RS = RectangleSelector(current_ax, line_select_callback,\n",
    "                                       drawtype='box', useblit=True,\n",
    "                                       # don't use middle button\n",
    "                                       button=[1, 3],\n",
    "                                       minspanx=5, minspany=5,\n",
    "                                       spancoords='pixels',)\n",
    "plt.connect('key_press_event', toggle_selector)\n",
    "\n",
    "plt.show()\n"
   ]
  },
  {
   "cell_type": "code",
   "execution_count": 90,
   "metadata": {
    "scrolled": true
   },
   "outputs": [
    {
     "data": {
      "text/plain": [
       "<matplotlib.image.AxesImage at 0x7f38dd8f6e10>"
      ]
     },
     "execution_count": 90,
     "metadata": {},
     "output_type": "execute_result"
    },
    {
     "data": {
      "image/png": "[encoded data removed]",
      "text/plain": [
       "<matplotlib.figure.Figure at 0x7f38dd875110>"
      ]
     },
     "metadata": {},
     "output_type": "display_data"
    }
   ],
   "source": [
    "%matplotlib inline\n",
    "location = img[739:1422,9:103]\n",
    "plt.imshow(np.rot90(location,-1))"
   ]
  },
  {
   "cell_type": "code",
   "execution_count": 91,
   "metadata": {},
   "outputs": [
    {
     "data": {
      "text/plain": [
       "<matplotlib.image.AxesImage at 0x7f38dda76210>"
      ]
     },
     "execution_count": 91,
     "metadata": {},
     "output_type": "execute_result"
    },
    {
     "data": {
      "image/png": "[encoded data removed]",
      "text/plain": [
       "<matplotlib.figure.Figure at 0x7f38dd636590>"
      ]
     },
     "metadata": {},
     "output_type": "display_data"
    }
   ],
   "source": [
    "datem = img[9:694,4:103]\n",
    "plt.imshow(np.rot90(datem,-1))\n"
   ]
  },
  {
   "cell_type": "code",
   "execution_count": 111,
   "metadata": {},
   "outputs": [
    {
     "data": {
      "text/plain": [
       "<matplotlib.image.AxesImage at 0x7f38dceb2590>"
      ]
     },
     "execution_count": 111,
     "metadata": {},
     "output_type": "execute_result"
    }
   ],
   "source": [
    "temperature_plot = img[9:681,110:1990]\n",
    "plt.imshow(temperature_plot)\n"
   ]
  },
  {
   "cell_type": "code",
   "execution_count": 93,
   "metadata": {},
   "outputs": [
    {
     "data": {
      "text/plain": [
       "<matplotlib.image.AxesImage at 0x7f38e943a310>"
      ]
     },
     "execution_count": 93,
     "metadata": {},
     "output_type": "execute_result"
    },
    {
     "data": {
      "image/png": "[encoded data removed]",
      "text/plain": [
       "<matplotlib.figure.Figure at 0x7f38dfc2f910>"
      ]
     },
     "metadata": {},
     "output_type": "display_data"
    }
   ],
   "source": [
    "RH_plot = img[691:1404,108:1988]\n",
    "plt.imshow(RH_plot)"
   ]
  },
  {
   "cell_type": "code",
   "execution_count": 141,
   "metadata": {},
   "outputs": [
    {
     "data": {
      "text/plain": [
       "<matplotlib.image.AxesImage at 0x7f38dcaf1e10>"
      ]
     },
     "execution_count": 141,
     "metadata": {},
     "output_type": "execute_result"
    }
   ],
   "source": [
    "plt.imshow(RH_plot)\n",
    "plt.imshow(RH_plot[:,:,0])"
   ]
  },
  {
   "cell_type": "code",
   "execution_count": 46,
   "metadata": {
    "collapsed": true
   },
   "outputs": [],
   "source": [
    "RH_plot = img[705:1399,116:1991]\n",
    "location = img[721:1385,3:102]\n",
    "datem = img[8:716,3:121]\n",
    "temperature_plot = img[22:680,113:1988]\n"
   ]
  },
  {
   "cell_type": "markdown",
   "metadata": {},
   "source": [
    "To identify the values we take advantege that the blu ink absorbs in the red channel, hence we retrive the index of the lower value in each column of the red channel."
   ]
  },
  {
   "cell_type": "code",
   "execution_count": 95,
   "metadata": {
    "collapsed": true
   },
   "outputs": [],
   "source": [
    "minarr = np.argmin(RH_plot[:,:,0],axis=0)\n",
    "xr = np.arange(len(minarr))\n",
    "minarrT = np.argmin(temperature_plot[:,:,0],axis=0)\n",
    "xT = np.arange(len(minarrT))"
   ]
  },
  {
   "cell_type": "code",
   "execution_count": 97,
   "metadata": {},
   "outputs": [
    {
     "name": "stdout",
     "output_type": "stream",
     "text": [
      "Using matplotlib backend: TkAgg\n"
     ]
    },
    {
     "data": {
      "text/plain": [
       "<matplotlib.collections.PathCollection at 0x7f38f003a750>"
      ]
     },
     "execution_count": 97,
     "metadata": {},
     "output_type": "execute_result"
    }
   ],
   "source": [
    "%matplotlib\n",
    "fig = plt.figure()\n",
    "ax = fig.add_subplot(111)\n",
    "ax.imshow(RH_plot)\n",
    "ax.scatter(xr,minarr)"
   ]
  },
  {
   "cell_type": "markdown",
   "metadata": {},
   "source": [
    "We see that some outliers are detected. For removing the outliers different approces are possible (see appendix 1), In this case we filter values that are outside one standard deviation."
   ]
  },
  {
   "cell_type": "code",
   "execution_count": 98,
   "metadata": {
    "collapsed": true
   },
   "outputs": [],
   "source": [
    "from scipy import interpolate\n",
    "from scipy.ndimage.morphology import binary_closing\n",
    "\n",
    "#from scipy.interpolate import UnivariateSpline\n",
    "def sigmafilter(minarr,interpolation=False,closing=True):\n",
    "    xr = np.arange(len(minarr))\n",
    "    stdRH = np.std(minarr)\n",
    "    meanRH = np.mean(minarr)\n",
    "    lowerlim = meanRH - stdRH/2\n",
    "    upperlim = meanRH + stdRH/2\n",
    "    print(stdRH)\n",
    "    maskedval = np.ma.masked_outside(minarr,lowerlim,upperlim)\n",
    "    #spl = UnivariateSpline(xr[~maskedval.mask], minarr[~maskedval.mask],s=7,k=3)\n",
    "    # We use a closing for removing small detection\n",
    "    if closing:\n",
    "        maskedval.mask = binary_closing(maskedval.mask)\n",
    "        maskedval.mask[0] = True\n",
    "        maskedval.mask[-1] = True\n",
    "    \n",
    "    if interpolation:\n",
    "        xn = np.arange(min(xr[~maskedval.mask]), max(xr[~maskedval.mask]))\n",
    "        f = interpolate.interp1d(xr[~maskedval.mask], minarr[~maskedval.mask],kind='cubic')\n",
    "    else:\n",
    "        xn = xr[~maskedval.mask]\n",
    "        f = minarr[~maskedval.mask]\n",
    "    return xn,f"
   ]
  },
  {
   "cell_type": "code",
   "execution_count": 99,
   "metadata": {},
   "outputs": [
    {
     "name": "stdout",
     "output_type": "stream",
     "text": [
      "Using matplotlib backend: TkAgg\n",
      "20.2972879992\n"
     ]
    },
    {
     "data": {
      "text/plain": [
       "<matplotlib.collections.PathCollection at 0x7f38dd35eb90>"
      ]
     },
     "execution_count": 99,
     "metadata": {},
     "output_type": "execute_result"
    }
   ],
   "source": [
    "%matplotlib\n",
    "fig = plt.figure()\n",
    "ax = fig.add_subplot(111)\n",
    "ax.imshow(RH_plot)\n",
    "\n",
    "ax.scatter(xr,minarr,color='b',alpha=0.2)\n",
    "xn,res = sigmafilter(minarr,closing=True)\n",
    "ax.scatter(xn,res,color='r',alpha=0.8)"
   ]
  },
  {
   "cell_type": "code",
   "execution_count": 20,
   "metadata": {},
   "outputs": [
    {
     "name": "stdout",
     "output_type": "stream",
     "text": [
      "23.9669875789\n"
     ]
    },
    {
     "data": {
      "text/plain": [
       "<matplotlib.collections.PathCollection at 0x7f38dfc209d0>"
      ]
     },
     "execution_count": 20,
     "metadata": {},
     "output_type": "execute_result"
    }
   ],
   "source": [
    "fig = plt.figure()\n",
    "ax = fig.add_subplot(111)\n",
    "ax.imshow(temperature_plot)\n",
    "\n",
    "ax.scatter(xT,minarrT,color='b',alpha=0.2)\n",
    "xn,res = sigmafilter(minarrT,closing=True)\n",
    "ax.scatter(xn,res,color='r',alpha=0.8)"
   ]
  },
  {
   "cell_type": "markdown",
   "metadata": {},
   "source": [
    "## Correcting the curve distortion"
   ]
  },
  {
   "cell_type": "code",
   "execution_count": 86,
   "metadata": {},
   "outputs": [
    {
     "name": "stdout",
     "output_type": "stream",
     "text": [
      "Using matplotlib backend: TkAgg\n"
     ]
    }
   ],
   "source": [
    "%matplotlib\n",
    "import time\n",
    "import math\n",
    "import numpy as np\n",
    "import matplotlib.pyplot as plt\n",
    "import scipy.optimize\n",
    "\n",
    "\n",
    "def correct_curvature(data,number_of_points,text='Select the 11 intersection at 0,10,20 .. 100 %RH'):\n",
    "    def tellme(s):\n",
    "        print(s)\n",
    "        plt.title(s, fontsize=16)\n",
    "        plt.draw()\n",
    "\n",
    "    plt.clf()\n",
    "    plt.imshow(data)\n",
    "    plt.setp(plt.gca(), autoscale_on=False)\n",
    "\n",
    "    tellme('When you are ready clik on the plot')\n",
    "\n",
    "    plt.waitforbuttonpress()\n",
    "\n",
    "    while True:\n",
    "        pts = []\n",
    "        while len(pts) < number_of_points:\n",
    "            tellme(text)\n",
    "            pts = np.asarray(plt.ginput(number_of_points, timeout=-1))\n",
    "        # plot parabola, rotated with respect to the plot\n",
    "        x = pts[:,1]\n",
    "        y = pts[:,0]\n",
    "\n",
    "        def parabola(x, a, b, c):\n",
    "            return a*x**2 + b*x + c\n",
    "        fit_params, pcov = scipy.optimize.curve_fit(parabola, x, y)\n",
    "        x_fit = np.arange(math.ceil(min(x)),math.ceil(max(x))).astype(int)\n",
    "        print(fit_params)\n",
    "        y_fit = parabola(x_fit, *fit_params)\n",
    "        plt.plot(y_fit, x_fit, label='fit')\n",
    "\n",
    "        tellme('Click keyboard key for conferming, mouse for starting agian')\n",
    "\n",
    "        if plt.waitforbuttonpress():\n",
    "            break\n",
    "\n",
    "    displacement = np.ceil(y_fit - min(y_fit)).astype(int)\n",
    "    for ind,indx in enumerate(x_fit):\n",
    "        #print(ind, indx)\n",
    "        data[indx] = np.roll(data[indx],-displacement[ind],axis=0)\n",
    "    plt.clf()\n",
    "    plt.imshow(data)\n",
    "    return data,pts"
   ]
  },
  {
   "cell_type": "code",
   "execution_count": 100,
   "metadata": {},
   "outputs": [
    {
     "name": "stdout",
     "output_type": "stream",
     "text": [
      "When you are ready clik on the plot\n",
      "Select the 11 intersection at 0,10,20 .. 100 %RH\n",
      "[  3.72218404e-04  -2.83945488e-01   8.47236609e+02]\n",
      "Click keyboard key for conferming, mouse for starting agian\n"
     ]
    }
   ],
   "source": [
    "data_RH,pts_RH = correct_curvature(RH_plot,11)"
   ]
  },
  {
   "cell_type": "code",
   "execution_count": 23,
   "metadata": {},
   "outputs": [
    {
     "name": "stdout",
     "output_type": "stream",
     "text": [
      "When you are ready clik on the plot\n",
      "Select the 11 intersection at 0,10,20 .. 100 %RH\n",
      "[  3.80531835e-04  -2.71532437e-01   5.98391287e+02]\n",
      "Click keyboard key for conferming, mouse for starting agian\n"
     ]
    }
   ],
   "source": [
    "data_T,pts_T = correct_curvature(temperature_plot,9)"
   ]
  },
  {
   "cell_type": "markdown",
   "metadata": {
    "collapsed": true
   },
   "source": [
    "## Linearity of the RH measurment\n",
    "Because the RH measurment is not linear we have to build a model using the vaules that we manually select at various RH."
   ]
  },
  {
   "cell_type": "code",
   "execution_count": 24,
   "metadata": {
    "collapsed": true
   },
   "outputs": [],
   "source": [
    "%qtconsole"
   ]
  },
  {
   "cell_type": "code",
   "execution_count": 104,
   "metadata": {
    "collapsed": true
   },
   "outputs": [],
   "source": [
    "x= pts_RH[:,1] # we extract the y coordinates of the values that we extracted will be the x of the next plot"
   ]
  },
  {
   "cell_type": "code",
   "execution_count": 105,
   "metadata": {
    "collapsed": true
   },
   "outputs": [],
   "source": [
    "RH_refvalues = range(0,101,10)"
   ]
  },
  {
   "cell_type": "code",
   "execution_count": 106,
   "metadata": {},
   "outputs": [
    {
     "data": {
      "text/plain": [
       "<matplotlib.text.Text at 0x7f38dd01a8d0>"
      ]
     },
     "execution_count": 106,
     "metadata": {},
     "output_type": "execute_result"
    }
   ],
   "source": [
    "plt.scatter(x,RH_refvalues)\n",
    "plt.xlabel(\"Pixel index\")\n",
    "plt.ylabel(\"True RH value\")"
   ]
  },
  {
   "cell_type": "code",
   "execution_count": 107,
   "metadata": {},
   "outputs": [
    {
     "data": {
      "text/plain": [
       "<matplotlib.text.Text at 0x7f38dd05b8d0>"
      ]
     },
     "execution_count": 107,
     "metadata": {},
     "output_type": "execute_result"
    }
   ],
   "source": [
    "from scipy.interpolate import interp1d, splrep\n",
    "fRH = interp1d(x, RH_refvalues, kind='cubic')\n",
    "xn = np.linspace(min(x),max(x),300)\n",
    "plt.scatter(x,RH_refvalues)\n",
    "plt.plot(xn,fRH(xn))\n",
    "plt.xlabel(\"Pixel index\")\n",
    "plt.ylabel(\"True RH value\")"
   ]
  },
  {
   "cell_type": "code",
   "execution_count": 36,
   "metadata": {
    "collapsed": true
   },
   "outputs": [],
   "source": [
    "from datetime import datetime,timedelta \n",
    "from scipy.interpolate import interp1d\n",
    "import scipy.optimize\n",
    "import math\n",
    "from scipy.ndimage.morphology import binary_closing"
   ]
  },
  {
   "cell_type": "code",
   "execution_count": 16,
   "metadata": {},
   "outputs": [
    {
     "name": "stdout",
     "output_type": "stream",
     "text": [
      "Write location: porta vescovo\n",
      "Write instrument model: asdfa\n",
      "Write begin date using spaces e.g. 1988 12 31 15 30 :1988 12 31 15 30\n",
      "Write end date using spaces e.g. 1988 12 31 15 30 or press enter to continue:\n"
     ]
    }
   ],
   "source": [
    "from datetime import datetime,timedelta \n",
    "location = input(\"Write location: \")\n",
    "instrument_model = input(\"Write instrument model: \")\n",
    "begin_date = input (\"Write begin date using spaces e.g. 1988 12 31 15 30 :\")\n",
    "begin_date = map(int,begin_date.split())\n",
    "begin_datetime = datetime(*begin_date)\n",
    "end_date = input (\"Write end date using spaces e.g. 1988 12 31 15 30 or press enter to continue:\")\n",
    "if end_date != '':\n",
    "    end_date = map(int,end_date.split())\n",
    "    end_datetime = datetime(*end_date)"
   ]
  },
  {
   "cell_type": "markdown",
   "metadata": {},
   "source": [
    "Procedure pseudo-code:\n",
    "- Extract the relevant region of the plot\n",
    "- Determine the model and the date of acquisition\n",
    "- Correct the distorstion of the measurment\n",
    "- Find the position of the values\n",
    "- Assign the correspective value to each pixel\n"
   ]
  },
  {
   "cell_type": "markdown",
   "metadata": {},
   "source": [
    "#  Organizing the processing into classes\n",
    "First we define a class representing the single diagram"
   ]
  },
  {
   "cell_type": "code",
   "execution_count": 205,
   "metadata": {
    "collapsed": true
   },
   "outputs": [],
   "source": [
    "img = np.array(images_p2i[10])\n",
    "RH_plot = img[705:1399,116:1991]\n",
    "location = img[721:1385,3:102]\n",
    "datem = img[8:716,3:121]\n",
    "temperature_plot = img[22:680,113:1988]"
   ]
  },
  {
   "cell_type": "code",
   "execution_count": 206,
   "metadata": {},
   "outputs": [
    {
     "name": "stdout",
     "output_type": "stream",
     "text": [
      "Using matplotlib backend: TkAgg\n"
     ]
    }
   ],
   "source": [
    "%matplotlib\n",
    "class single_diagram:\n",
    "    def __init__(self,data,majorticks,unit,cycle,begin_datetime):\n",
    "        self.pixelhour = None\n",
    "        self.time = None\n",
    "        self.measured_values = None\n",
    "        self.yfunc = None\n",
    "        self.detected_points_y = None\n",
    "        self.detected_points_x = None\n",
    "        self.data = data\n",
    "        self.unit = unit\n",
    "        self.correction = 'Not performed'\n",
    "        self.majorticks = majorticks\n",
    "        self.cycle = cycle\n",
    "        self.begin_datetime = begin_datetime\n",
    "    \n",
    "    def find_referencesystem(self):\n",
    "        \"\"\"correct curvature and return function for finding x and y values\"\"\"\n",
    "        if self.correction == 'Performed':\n",
    "            print('Correction already performed')\n",
    "            return\n",
    "        def tellme(s):\n",
    "            print(s)\n",
    "            plt.title(s, fontsize=16)\n",
    "            plt.draw()\n",
    "        a = self.majorticks[0]\n",
    "        b = self.majorticks[1]\n",
    "        c = self.majorticks[-1]\n",
    "        text = \"Select intersection at %s, %s ... %s %s\" %(a,b,c,self.unit)\n",
    "        plt.clf()\n",
    "        plt.imshow(self.data)\n",
    "        plt.setp(plt.gca(), autoscale_on=False)\n",
    "        \n",
    "        tellme('When you are ready clik on the plot')\n",
    "        number_of_points = len(self.majorticks)\n",
    "        plt.waitforbuttonpress()\n",
    "\n",
    "        while True:\n",
    "            pts = []\n",
    "            while len(pts) < number_of_points:\n",
    "                \n",
    "                tellme(text)\n",
    "                pts = np.asarray(plt.ginput(number_of_points, timeout=-1))\n",
    "            # plot parabola, rotated with respect to the plot\n",
    "            x = pts[:,1]\n",
    "            y = pts[:,0]\n",
    "\n",
    "            def parabola(x, a, b, c):\n",
    "                return a*x**2 + b*x + c\n",
    "            fit_params, pcov = scipy.optimize.curve_fit(parabola, x, y)\n",
    "            x_fit = np.arange(math.ceil(min(x)),math.ceil(max(x))).astype(int)\n",
    "            print(fit_params)\n",
    "            y_fit = parabola(x_fit, *fit_params)\n",
    "            plt.plot(y_fit, x_fit, label='fit')\n",
    "\n",
    "            tellme('Click keyboard key for conferming, mouse for starting agian')\n",
    "\n",
    "            if plt.waitforbuttonpress():\n",
    "                break\n",
    "\n",
    "        displacement = np.ceil(y_fit - min(y_fit)).astype(int)\n",
    "        for ind,indx in enumerate(x_fit):\n",
    "            #print(ind, indx)\n",
    "            self.data[indx] = np.roll(self.data[indx],-displacement[ind],axis=0)\n",
    "        plt.clf()\n",
    "        plt.imshow(self.data)\n",
    "        self.pts = pts\n",
    "        # Curvature is corrected\n",
    "        # We calculate the function for finding the y values\n",
    "        f = interp1d(pts[:,1], self.majorticks, kind='cubic')\n",
    "        self.yfunc = f\n",
    "        # We calculate the dimension of pixel\n",
    "        if measurement_cycle == 'w':\n",
    "            self.pixelhour = 24.*7/self.data.shape[1]\n",
    "        if measurement_cycle == 'd':\n",
    "            self.pixelhour = 24./self.data.shape[1]\n",
    "        self.correction = 'Performed'\n",
    "    \n",
    "    def auto_detectpoints(self):\n",
    "        minarr = np.argmin(self.data[:,:,0],axis=0)\n",
    "        xr = np.arange(len(minarr))\n",
    "        plt.scatter(xr,minarr)\n",
    "        self.detected_points_y = minarr\n",
    "        self.detected_points_x =  xr\n",
    "    \n",
    "    def manual_detectpoints(self):\n",
    "        \"\"\"correct curvature and return function for finding x and y values\"\"\"\n",
    "        def tellme(s):\n",
    "            print(s)\n",
    "            plt.title(s, fontsize=16)\n",
    "            plt.draw()\n",
    "        plt.clf()\n",
    "        plt.imshow(self.data)\n",
    "        plt.setp(plt.gca(), autoscale_on=False)\n",
    "        \n",
    "        tellme('Use left button to add and right to remove last point, prese ENTER to finish')\n",
    "        plt.waitforbuttonpress()\n",
    "        while True:\n",
    "            pts = np.asarray(plt.ginput(-1, timeout=-1))\n",
    "            if plt.waitforbuttonpress():\n",
    "                break\n",
    "        cyclelength = 0\n",
    "        # in case we have multiple path we must add the previous elapsed time for each cycle\n",
    "        for indx,val in enumerate(pts[1:,0]):\n",
    "            # the x value is less then the previous we are begingin a new cycle\n",
    "            if val < (pts[indx,0] - cyclelength):\n",
    "                cyclelength += self.data.shape[1]\n",
    "            pts[indx+1,0]+= cyclelength\n",
    "        print('finish')           \n",
    "        self.detected_points_y = pts[:,1]\n",
    "        self.detected_points_x =  pts[:,0]\n",
    "        \n",
    "        \n",
    "    #from scipy.interpolate import UnivariateSpline\n",
    "    def sigmafilter(self,interpolation=False,closing=True):\n",
    "        xr = np.arange(len(self.detected_points_x))\n",
    "        stdRH = np.std(self.detected_points_y)\n",
    "        meanRH = np.mean(self.detected_points_y)\n",
    "        lowerlim = meanRH - stdRH/2\n",
    "        upperlim = meanRH + stdRH/2\n",
    "        print(stdRH)\n",
    "        maskedval = np.ma.masked_outside(self.detected_points_y,lowerlim,upperlim)\n",
    "        #spl = UnivariateSpline(xr[~maskedval.mask], minarr[~maskedval.mask],s=7,k=3)\n",
    "        # We use a closing for removing small detection\n",
    "        print(len(self.detected_points_y))\n",
    "        print(len(maskedval))\n",
    "        if closing:\n",
    "            print(\"Closing\")\n",
    "            maskedval.mask = binary_closing(maskedval.mask)\n",
    "            maskedval.mask[0] = True\n",
    "            maskedval.mask[-1] = True\n",
    "            \n",
    "\n",
    "        if interpolation:\n",
    "            print(\"Interpolation\")\n",
    "            xn = np.arange(min(xr[~maskedval.mask]), max(xr[~maskedval.mask]))\n",
    "            f = interpolate.interp1d(xr[~maskedval.mask], self.detected_points_y[~maskedval.mask],kind='cubic')\n",
    "            f = f(xn)\n",
    "        else:\n",
    "            xn = xr[~maskedval.mask]\n",
    "            f = self.detected_points_y[~maskedval.mask]\n",
    "        \n",
    "        self.detected_points_y = f\n",
    "        self.detected_points_x =  xn\n",
    "    \n",
    "    \n",
    "    def calculate_values(self):\n",
    "        t = [self.begin_datetime + timedelta(hours=i*self.pixelhour) for i in self.detected_points_x]\n",
    "        self.time = t\n",
    "        self.measured_values = self.yfunc(self.detected_points_y)\n",
    "    \n",
    "    def plot(self):\n",
    "        fig = plt.figure()\n",
    "        ax = fig.add_subplot(111)\n",
    "        ax.plot(self.time,self.measured_values)\n",
    "        ax.set_ylabel(self.unit)"
   ]
  },
  {
   "cell_type": "code",
   "execution_count": 207,
   "metadata": {},
   "outputs": [],
   "source": [
    "g = single_diagram(data=RH_plot,majorticks=range(0,101,10),unit=\"% RH\",cycle='w',begin_datetime = begin_datetime)"
   ]
  },
  {
   "cell_type": "code",
   "execution_count": 208,
   "metadata": {},
   "outputs": [
    {
     "name": "stdout",
     "output_type": "stream",
     "text": [
      "When you are ready clik on the plot\n",
      "Select intersection at 0, 10 ... 100 % RH\n",
      "[  3.87564170e-04  -2.85824195e-01   1.15106667e+03]\n",
      "Click keyboard key for conferming, mouse for starting agian\n"
     ]
    }
   ],
   "source": [
    "g.find_referencesystem()"
   ]
  },
  {
   "cell_type": "code",
   "execution_count": 209,
   "metadata": {},
   "outputs": [
    {
     "name": "stdout",
     "output_type": "stream",
     "text": [
      "Use left button to add and right to remove last point, prese ENTER to finish\n",
      "finish\n"
     ]
    }
   ],
   "source": [
    "g.manual_detectpoints()"
   ]
  },
  {
   "cell_type": "code",
   "execution_count": 103,
   "metadata": {},
   "outputs": [
    {
     "name": "stdout",
     "output_type": "stream",
     "text": [
      "30.9998589749\n",
      "1875\n",
      "1875\n",
      "Closing\n"
     ]
    }
   ],
   "source": [
    "g.sigmafilter()"
   ]
  },
  {
   "cell_type": "code",
   "execution_count": 210,
   "metadata": {
    "scrolled": true
   },
   "outputs": [],
   "source": [
    "g.calculate_values()"
   ]
  },
  {
   "cell_type": "code",
   "execution_count": 211,
   "metadata": {},
   "outputs": [],
   "source": [
    "g.plot()\n",
    "#len(g.measured_values)"
   ]
  },
  {
   "cell_type": "code",
   "execution_count": 106,
   "metadata": {},
   "outputs": [
    {
     "data": {
      "text/plain": [
       "[<matplotlib.lines.Line2D at 0x7feedece5790>]"
      ]
     },
     "execution_count": 106,
     "metadata": {},
     "output_type": "execute_result"
    }
   ],
   "source": [
    "plt.plot(g.measured_values)"
   ]
  },
  {
   "cell_type": "markdown",
   "metadata": {},
   "source": [
    "# Tests"
   ]
  },
  {
   "cell_type": "code",
   "execution_count": 31,
   "metadata": {
    "collapsed": true
   },
   "outputs": [],
   "source": [
    "def generate_data(t, A, sigma, omega, noise=0, n_outliers=0, random_state=0):\n",
    "    y = A * np.exp(-sigma * t) * np.sin(omega * t)\n",
    "    rnd = np.random.RandomState(random_state)\n",
    "    error = noise * rnd.randn(t.size)\n",
    "    outliers = rnd.randint(0, t.size, n_outliers)\n",
    "    error[outliers] *= 35\n",
    "    return y + error\n",
    "\n",
    "A = 2\n",
    "sigma = 0.1\n",
    "omega = 0.1 * 2 * np.pi\n",
    "x_true = np.array([A, sigma, omega])\n",
    "\n",
    "noise = 0.1\n",
    "\n",
    "t_min = 0\n",
    "t_max = 30\n",
    "\n",
    "t_train = np.linspace(t_min, t_max, 30)\n",
    "y_train = generate_data(t_train, A, sigma, omega, noise=noise, n_outliers=4)\n",
    "\n",
    "def fun(x, t, y):\n",
    "    return x[0] * np.exp(-x[1] * t) * np.sin(x[2] * t) - y\n",
    "\n",
    "x0 = np.ones(3)\n",
    "from scipy.optimize import least_squares\n",
    "\n",
    "res_lsq = least_squares(fun, x0, args=(t_train, y_train))\n",
    "\n",
    "res_robust = least_squares(fun, x0, loss='soft_l1', f_scale=0.1, args=(t_train, y_train))\n",
    "\n",
    "t_test = np.linspace(t_min, t_max, 300)\n",
    "y_test = generate_data(t_test, A, sigma, omega)\n",
    "\n",
    "y_lsq = generate_data(t_test, *res_lsq.x)\n",
    "y_robust = generate_data(t_test, *res_robust.x)\n",
    "plt.plot(t_train, y_train, 'o', label='data')\n",
    "plt.plot(t_test, y_test, label='true')\n",
    "plt.plot(t_test, y_lsq, label='lsq')\n",
    "plt.plot(t_test, y_robust, label='robust lsq')\n",
    "plt.xlabel('$t$')\n",
    "plt.ylabel('$y$')\n",
    "plt.legend();"
   ]
  },
  {
   "cell_type": "code",
   "execution_count": null,
   "metadata": {
    "collapsed": true
   },
   "outputs": [],
   "source": []
  },
  {
   "cell_type": "code",
   "execution_count": 47,
   "metadata": {
    "collapsed": true
   },
   "outputs": [],
   "source": [
    "res_robust = least_squares(fun, x0, loss='soft_l1', f_scale=0.1, args=(np.array(xr), minarr))"
   ]
  },
  {
   "cell_type": "code",
   "execution_count": null,
   "metadata": {
    "collapsed": true
   },
   "outputs": [],
   "source": [
    "plt.scatter(X,y)"
   ]
  },
  {
   "cell_type": "code",
   "execution_count": null,
   "metadata": {
    "collapsed": true
   },
   "outputs": [],
   "source": [
    "t"
   ]
  },
  {
   "cell_type": "code",
   "execution_count": null,
   "metadata": {
    "collapsed": true
   },
   "outputs": [],
   "source": [
    "from scipy.interpolate import make_lsq_spline, BSpline\n",
    "t = [-1, 0, 1]\n",
    "k = 3\n",
    "x = np.array(xr)\n",
    "t = np.r_[(x[0],)*(k+1),\n",
    "          t,\n",
    "          (x[-1],)*(k+1)]\n",
    "spl = make_lsq_spline(x, minarr, t, k)"
   ]
  },
  {
   "cell_type": "code",
   "execution_count": 45,
   "metadata": {},
   "outputs": [
    {
     "name": "stdout",
     "output_type": "stream",
     "text": [
      "('True coefficients:', array([ 20.4923687 ,  34.16981149]))\n",
      "('Huber coefficients:', array([ 17.79064252,  31.01066091]))\n",
      "('Linear Regression coefficients:', array([-1.92210833,  7.02266092]))\n"
     ]
    }
   ],
   "source": [
    "import numpy as np\n",
    "from sklearn.linear_model import HuberRegressor, LinearRegression\n",
    "from sklearn.datasets import make_regression\n",
    "rng = np.random.RandomState(0)\n",
    "X, y, coef = make_regression(\n",
    "    n_samples=200, n_features=2, noise=4.0, coef=True, random_state=0)\n",
    "X[:4] = rng.uniform(10, 20, (4, 2))\n",
    "y[:4] = rng.uniform(10, 20, 4)\n",
    "huber = HuberRegressor().fit(X, y)\n",
    "huber.score(X, y)\n",
    "\n",
    "huber.predict(X[:1,])\n",
    "\n",
    "linear = LinearRegression().fit(X, y)\n",
    "print(\"True coefficients:\", coef)\n",
    "\n",
    "print(\"Huber coefficients:\", huber.coef_)\n",
    "\n",
    "print(\"Linear Regression coefficients:\", linear.coef_)"
   ]
  },
  {
   "cell_type": "code",
   "execution_count": null,
   "metadata": {
    "collapsed": true
   },
   "outputs": [],
   "source": [
    "x = np.linspace(-3, 3, 50)\n",
    "y = np.exp(-x**2) + 0.1 * np.random.randn(50)\n",
    "\n",
    "from scipy.interpolate import make_lsq_spline, BSpline\n",
    "t = [-1, 0, 1]\n",
    "k = 3\n",
    "t = np.r_[(x[0],)*(k+1),\n",
    "          t,\n",
    "          (x[-1],)*(k+1)]\n",
    "spl = make_lsq_spline(x, y, t, k)"
   ]
  },
  {
   "cell_type": "code",
   "execution_count": null,
   "metadata": {
    "collapsed": true
   },
   "outputs": [],
   "source": [
    "%matplotlib inline"
   ]
  },
  {
   "cell_type": "code",
   "execution_count": null,
   "metadata": {
    "collapsed": true
   },
   "outputs": [],
   "source": [
    "from scipy.interpolate import splrep"
   ]
  },
  {
   "cell_type": "code",
   "execution_count": null,
   "metadata": {
    "collapsed": true
   },
   "outputs": [],
   "source": [
    "fig = plt.figure()\n",
    "ax = fig.add_subplot(111)\n",
    "#ax.imshow(RH_plot)\n",
    "xr = range(RH_plot.shape[1])\n",
    "ax.scatter(xr,minarr)\n",
    "savgol_minarr = savgol_filter(minarr,51, 2, mode='mirror')\n",
    "ax.scatter(xr,savgol_minarr,alpha=0.3)\n",
    "plt.show()"
   ]
  },
  {
   "cell_type": "code",
   "execution_count": null,
   "metadata": {
    "collapsed": true,
    "scrolled": true
   },
   "outputs": [],
   "source": [
    "from scipy.interpolate import splev, splrep\n",
    "spl = splrep(xr,minarr,s=10)\n",
    "xr\n",
    "y2 = splev(xr, spl)\n",
    "plt.plot(xr, minarr, 'o', xr, y2)\n",
    "plt.show()"
   ]
  },
  {
   "cell_type": "code",
   "execution_count": null,
   "metadata": {
    "collapsed": true
   },
   "outputs": [],
   "source": [
    "from scipy.signal import savgol_filter\n",
    "savgol_filter(x, 5, 2, mode='interp')\n"
   ]
  },
  {
   "cell_type": "code",
   "execution_count": null,
   "metadata": {
    "collapsed": true
   },
   "outputs": [],
   "source": [
    "from matplotlib import pyplot as plt\n",
    "import numpy as np\n",
    "\n",
    "from sklearn.linear_model import (\n",
    "    LinearRegression, TheilSenRegressor, RANSACRegressor, HuberRegressor)\n",
    "from sklearn.metrics import mean_squared_error\n",
    "from sklearn.preprocessing import PolynomialFeatures\n",
    "from sklearn.pipeline import make_pipeline\n",
    "\n",
    "X = np.array(xr)\n",
    "Y  = minarr\n",
    "\n",
    "estimators = [('OLS', LinearRegression()),\n",
    "              ('Theil-Sen', TheilSenRegressor(random_state=42)),\n",
    "              ('RANSAC', RANSACRegressor(random_state=42)),\n",
    "              ('HuberRegressor', HuberRegressor())]\n",
    "colors = {'OLS': 'turquoise', 'Theil-Sen': 'gold', 'RANSAC': 'lightgreen', 'HuberRegressor': 'black'}\n",
    "linestyle = {'OLS': '-', 'Theil-Sen': '-.', 'RANSAC': '--', 'HuberRegressor': '--'}\n",
    "lw = 3\n",
    "\n",
    "x_plot = np.linspace(X.min(), X.max())\n",
    "\n",
    "plt.figure(figsize=(5, 4))\n",
    "plt.plot(X, Y, 'b+')\n",
    "\n",
    "for name, estimator in estimators:\n",
    "    model = make_pipeline(PolynomialFeatures(3), estimator)\n",
    "    model.fit(X, Y)\n",
    "    y_plot = model.predict(x_plot[:, np.newaxis])\n",
    "    plt.plot(x_plot, y_plot, color=colors[name], linestyle=linestyle[name],\n",
    "             linewidth=lw, label='%s: error = %.3f' % (name, mse))\n",
    "\n",
    "legend_title = 'Error of Mean\\nAbsolute Deviation\\nto Non-corrupt Data'\n",
    "legend = plt.legend(loc='upper right', frameon=False, title=legend_title,\n",
    "                    prop=dict(size='x-small'))\n",
    "plt.xlim(-4, 10.2)\n",
    "plt.ylim(-2, 10.2)\n",
    "plt.title(title)\n",
    "plt.show()"
   ]
  },
  {
   "cell_type": "code",
   "execution_count": 46,
   "metadata": {
    "collapsed": true
   },
   "outputs": [],
   "source": [
    "from matplotlib import pyplot as plt\n",
    "import numpy as np\n",
    "\n",
    "from sklearn.linear_model import (\n",
    "    LinearRegression, TheilSenRegressor, RANSACRegressor, HuberRegressor)\n",
    "from sklearn.metrics import mean_squared_error\n",
    "from sklearn.preprocessing import PolynomialFeatures\n",
    "from sklearn.pipeline import make_pipeline\n",
    "\n",
    "np.random.seed(42)\n",
    "\n",
    "X = np.random.normal(size=400)\n",
    "y = np.sin(X)\n",
    "# Make sure that it X is 2D\n",
    "X = X[:, np.newaxis]\n",
    "\n",
    "X_test = np.random.normal(size=200)\n",
    "y_test = np.sin(X_test)\n",
    "X_test = X_test[:, np.newaxis]\n",
    "\n",
    "y_errors = y.copy()\n",
    "y_errors[::3] = 3\n",
    "\n",
    "X_errors = X.copy()\n",
    "X_errors[::3] = 3\n",
    "\n",
    "y_errors_large = y.copy()\n",
    "y_errors_large[::3] = 10\n",
    "\n",
    "X_errors_large = X.copy()\n",
    "X_errors_large[::3] = 10\n",
    "\n",
    "estimators = [('OLS', LinearRegression()),\n",
    "              ('Theil-Sen', TheilSenRegressor(random_state=42)),\n",
    "              ('RANSAC', RANSACRegressor(random_state=42)),\n",
    "              ('HuberRegressor', HuberRegressor())]\n",
    "colors = {'OLS': 'turquoise', 'Theil-Sen': 'gold', 'RANSAC': 'lightgreen', 'HuberRegressor': 'black'}\n",
    "linestyle = {'OLS': '-', 'Theil-Sen': '-.', 'RANSAC': '--', 'HuberRegressor': '--'}\n",
    "lw = 3\n",
    "\n",
    "x_plot = np.linspace(X.min(), X.max())\n",
    "for title, this_X, this_y in [\n",
    "        ('Modeling Errors Only', X, y),\n",
    "        ('Corrupt X, Small Deviants', X_errors, y),\n",
    "        ('Corrupt y, Small Deviants', X, y_errors),\n",
    "        ('Corrupt X, Large Deviants', X_errors_large, y),\n",
    "        ('Corrupt y, Large Deviants', X, y_errors_large)]:\n",
    "    plt.figure(figsize=(5, 4))\n",
    "    plt.plot(this_X[:, 0], this_y, 'b+')\n",
    "\n",
    "    for name, estimator in estimators:\n",
    "        model = make_pipeline(PolynomialFeatures(3), estimator)\n",
    "        model.fit(this_X, this_y)\n",
    "        mse = mean_squared_error(model.predict(X_test), y_test)\n",
    "        y_plot = model.predict(x_plot[:, np.newaxis])\n",
    "        plt.plot(x_plot, y_plot, color=colors[name], linestyle=linestyle[name],\n",
    "                 linewidth=lw, label='%s: error = %.3f' % (name, mse))\n",
    "\n",
    "    legend_title = 'Error of Mean\\nAbsolute Deviation\\nto Non-corrupt Data'\n",
    "    legend = plt.legend(loc='upper right', frameon=False, title=legend_title,\n",
    "                        prop=dict(size='x-small'))\n",
    "    plt.xlim(-4, 10.2)\n",
    "    plt.ylim(-2, 10.2)\n",
    "    plt.title(title)\n",
    "plt.show()\n"
   ]
  },
  {
   "cell_type": "code",
   "execution_count": 35,
   "metadata": {},
   "outputs": [
    {
     "ename": "TypeError",
     "evalue": "Invalid data type for Iin",
     "output_type": "error",
     "traceback": [
      "\u001b[0;31m---------------------------------------------------------------------------\u001b[0m",
      "\u001b[0;31mTypeError\u001b[0m                                 Traceback (most recent call last)",
      "\u001b[0;32m<ipython-input-35-8e9d3d57671e>\u001b[0m in \u001b[0;36m<module>\u001b[0;34m()\u001b[0m\n\u001b[1;32m      1\u001b[0m \u001b[0;32mfrom\u001b[0m \u001b[0mscipy\u001b[0m\u001b[0;34m.\u001b[0m\u001b[0msignal\u001b[0m \u001b[0;32mimport\u001b[0m \u001b[0mspline_filter\u001b[0m\u001b[0;34m\u001b[0m\u001b[0m\n\u001b[0;32m----> 2\u001b[0;31m \u001b[0mfiltermin\u001b[0m \u001b[0;34m=\u001b[0m \u001b[0mspline_filter\u001b[0m\u001b[0;34m(\u001b[0m\u001b[0mnp\u001b[0m\u001b[0;34m.\u001b[0m\u001b[0marray\u001b[0m\u001b[0;34m(\u001b[0m\u001b[0mminarr\u001b[0m\u001b[0;34m)\u001b[0m\u001b[0;34m)\u001b[0m\u001b[0;34m\u001b[0m\u001b[0m\n\u001b[0m\u001b[1;32m      3\u001b[0m \u001b[0mfig\u001b[0m \u001b[0;34m=\u001b[0m \u001b[0mplt\u001b[0m\u001b[0;34m.\u001b[0m\u001b[0mfigure\u001b[0m\u001b[0;34m(\u001b[0m\u001b[0;34m)\u001b[0m\u001b[0;34m\u001b[0m\u001b[0m\n\u001b[1;32m      4\u001b[0m \u001b[0max\u001b[0m \u001b[0;34m=\u001b[0m \u001b[0mfig\u001b[0m\u001b[0;34m.\u001b[0m\u001b[0madd_subplot\u001b[0m\u001b[0;34m(\u001b[0m\u001b[0;36m111\u001b[0m\u001b[0;34m)\u001b[0m\u001b[0;34m\u001b[0m\u001b[0m\n\u001b[1;32m      5\u001b[0m \u001b[0max\u001b[0m\u001b[0;34m.\u001b[0m\u001b[0mimshow\u001b[0m\u001b[0;34m(\u001b[0m\u001b[0mRH_plot\u001b[0m\u001b[0;34m)\u001b[0m\u001b[0;34m\u001b[0m\u001b[0m\n",
      "\u001b[0;32m/home/opdate/.local/lib/python2.7/site-packages/scipy/signal/bsplines.pyc\u001b[0m in \u001b[0;36mspline_filter\u001b[0;34m(Iin, lmbda)\u001b[0m\n\u001b[1;32m     40\u001b[0m         \u001b[0mout\u001b[0m \u001b[0;34m=\u001b[0m \u001b[0mout\u001b[0m\u001b[0;34m.\u001b[0m\u001b[0mastype\u001b[0m\u001b[0;34m(\u001b[0m\u001b[0mintype\u001b[0m\u001b[0;34m)\u001b[0m\u001b[0;34m\u001b[0m\u001b[0m\n\u001b[1;32m     41\u001b[0m     \u001b[0;32melse\u001b[0m\u001b[0;34m:\u001b[0m\u001b[0;34m\u001b[0m\u001b[0m\n\u001b[0;32m---> 42\u001b[0;31m         \u001b[0;32mraise\u001b[0m \u001b[0mTypeError\u001b[0m\u001b[0;34m(\u001b[0m\u001b[0;34m\"Invalid data type for Iin\"\u001b[0m\u001b[0;34m)\u001b[0m\u001b[0;34m\u001b[0m\u001b[0m\n\u001b[0m\u001b[1;32m     43\u001b[0m     \u001b[0;32mreturn\u001b[0m \u001b[0mout\u001b[0m\u001b[0;34m\u001b[0m\u001b[0m\n\u001b[1;32m     44\u001b[0m \u001b[0;34m\u001b[0m\u001b[0m\n",
      "\u001b[0;31mTypeError\u001b[0m: Invalid data type for Iin"
     ]
    }
   ],
   "source": [
    "from scipy.signal import spline_filter\n",
    "filtermin = spline_filter(np.array(minarr))\n",
    "fig = plt.figure()\n",
    "ax = fig.add_subplot(111)\n",
    "ax.imshow(RH_plot)\n",
    "ax.plot(xr, filtermin, 'g', lw=3)\n",
    "ax.scatter(xr,minarr)"
   ]
  },
  {
   "cell_type": "code",
   "execution_count": 64,
   "metadata": {},
   "outputs": [
    {
     "data": {
      "text/plain": [
       "[<matplotlib.lines.Line2D at 0x7fb64bebf410>]"
      ]
     },
     "execution_count": 64,
     "metadata": {},
     "output_type": "execute_result"
    },
    {
     "data": {
      "image/png": "[encoded data removed]",
      "text/plain": [
       "<matplotlib.figure.Figure at 0x7fb64bfcee90>"
      ]
     },
     "metadata": {},
     "output_type": "display_data"
    }
   ],
   "source": [
    "%matplotlib inline\n",
    "g = np.array([4,5,6,4,5,6,5,45,6,4,5,7,4,45,6,5,7,5,5,55,7,4,5,7,])\n",
    "plt.plot(g,'b+')"
   ]
  },
  {
   "cell_type": "code",
   "execution_count": 67,
   "metadata": {
    "collapsed": true
   },
   "outputs": [],
   "source": [
    "err = np.diff(g)\n",
    "abser = np.abs(err[1::2])\n",
    "quality = err[::2][:len(abser)]"
   ]
  },
  {
   "cell_type": "code",
   "execution_count": 68,
   "metadata": {},
   "outputs": [
    {
     "data": {
      "text/plain": [
       "[<matplotlib.lines.Line2D at 0x7fb64be34590>]"
      ]
     },
     "execution_count": 68,
     "metadata": {},
     "output_type": "execute_result"
    },
    {
     "data": {
      "image/png": "[encoded data removed]",
      "text/plain": [
       "<matplotlib.figure.Figure at 0x7fb64be2a150>"
      ]
     },
     "metadata": {},
     "output_type": "display_data"
    }
   ],
   "source": [
    "plt.plot(g,'b+')\n",
    "plt.plot(np.abs(err),'go')\n",
    "plt.plot(quality)"
   ]
  },
  {
   "cell_type": "code",
   "execution_count": null,
   "metadata": {
    "collapsed": true
   },
   "outputs": [],
   "source": [
    "import numpy as np\n",
    "import matplotlib.pyplot as plt\n",
    "from skimage.transform import PiecewiseAffineTransform, warp\n",
    "from skimage import data\n",
    "\n",
    "\n",
    "image = data.astronaut()\n",
    "rows, cols = image.shape[0], image.shape[1]\n",
    "\n",
    "src_cols = np.linspace(0, cols, 20)\n",
    "src_rows = np.linspace(0, rows, 10)\n",
    "src_rows, src_cols = np.meshgrid(src_rows, src_cols)\n",
    "src = np.dstack([src_cols.flat, src_rows.flat])[0]\n",
    "\n",
    "# add sinusoidal oscillation to row coordinates\n",
    "dst_rows = src[:, 1] - np.sin(np.linspace(0, 3 * np.pi, src.shape[0])) * 50\n",
    "dst_cols = src[:, 0]\n",
    "dst_rows *= 1.5\n",
    "dst_rows -= 1.5 * 50\n",
    "dst = np.vstack([dst_cols, dst_rows]).T\n",
    "\n",
    "\n",
    "tform = PiecewiseAffineTransform()\n",
    "tform.estimate(src, dst)\n",
    "\n",
    "out_rows = image.shape[0] - 1.5 * 50\n",
    "out_cols = cols\n",
    "out = warp(image, tform, output_shape=(out_rows, out_cols))\n",
    "\n",
    "fig, ax = plt.subplots()\n",
    "ax.imshow(out)\n",
    "ax.plot(tform.inverse(src)[:, 0], tform.inverse(src)[:, 1], '.b')\n",
    "ax.axis((0, out_cols, out_rows, 0))\n",
    "plt.show()"
   ]
  },
  {
   "cell_type": "code",
   "execution_count": 188,
   "metadata": {},
   "outputs": [
    {
     "data": {
      "text/plain": [
       "<matplotlib.image.AxesImage at 0x7fb6492217d0>"
      ]
     },
     "execution_count": 188,
     "metadata": {},
     "output_type": "execute_result"
    }
   ],
   "source": [
    "plt.imshow(temperature_plot[:,:,2])"
   ]
  },
  {
   "cell_type": "code",
   "execution_count": 174,
   "metadata": {
    "collapsed": true
   },
   "outputs": [],
   "source": [
    "import numpy as np\n",
    "import matplotlib.pyplot as plt\n",
    "\n",
    "from skimage import measure\n",
    "\n",
    "\n",
    "\n",
    "# Find contours at a constant value of 0.8\n",
    "contours = measure.find_contours(temperature_plot[:,:,2], 40)\n",
    "\n",
    "# Display the image and plot all contours found\n",
    "fig, ax = plt.subplots()\n",
    "ax.imshow(temperature_plot, cmap=plt.cm.gray)\n",
    "\n",
    "for n, contour in enumerate(contours):\n",
    "    ax.plot(contour[:, 1], contour[:, 0], linewidth=2)\n",
    "\n",
    "ax.axis('image')\n",
    "ax.set_xticks([])\n",
    "ax.set_yticks([])\n",
    "plt.show()"
   ]
  },
  {
   "cell_type": "code",
   "execution_count": 176,
   "metadata": {
    "collapsed": true
   },
   "outputs": [],
   "source": [
    "import numpy as np\n",
    "import matplotlib.pyplot as plt\n",
    "from scipy import ndimage as ndi\n",
    "\n",
    "from skimage import feature\n",
    "\n",
    "\n",
    "# Generate noisy image of a square\n",
    "im = temperature_plot[:,:,2]\n",
    "\n",
    "\n",
    "#im = ndi.gaussian_filter(im, 4)\n",
    "\n",
    "# Compute the Canny filter for two values of sigma\n",
    "edges1 = feature.canny(im)\n",
    "edges2 = feature.canny(im, sigma=3)\n",
    "\n",
    "# display results\n",
    "fig, (ax1, ax2, ax3) = plt.subplots(nrows=1, ncols=3, figsize=(8, 3),\n",
    "                                    sharex=True, sharey=True)\n",
    "\n",
    "ax1.imshow(im, cmap=plt.cm.gray)\n",
    "ax1.axis('off')\n",
    "ax1.set_title('noisy image', fontsize=20)\n",
    "\n",
    "ax2.imshow(edges1, cmap=plt.cm.gray)\n",
    "ax2.axis('off')\n",
    "ax2.set_title('Canny filter, $\\sigma=1$', fontsize=20)\n",
    "\n",
    "ax3.imshow(edges2, cmap=plt.cm.gray)\n",
    "ax3.axis('off')\n",
    "ax3.set_title('Canny filter, $\\sigma=3$', fontsize=20)\n",
    "\n",
    "fig.tight_layout()\n",
    "\n",
    "plt.show()"
   ]
  },
  {
   "cell_type": "code",
   "execution_count": 187,
   "metadata": {
    "collapsed": true
   },
   "outputs": [],
   "source": [
    "# Find contours at a constant value of 0.8\n",
    "contours = measure.find_contours(edges2, 0.5)\n",
    "\n",
    "# Display the image and plot all contours found\n",
    "fig, ax = plt.subplots()\n",
    "ax.imshow(temperature_plot, cmap=plt.cm.gray)\n",
    "\n",
    "for n, contour in enumerate(contours):\n",
    "    w,h = (np.max(contour,axis=0)-np.min(contour,axis=0))\n",
    "    if w*h > 600:\n",
    "        ax.plot(contour[:, 1], contour[:, 0], linewidth=2)\n",
    "\n",
    "ax.axis('image')\n",
    "ax.set_xticks([])\n",
    "ax.set_yticks([])\n",
    "plt.show()"
   ]
  },
  {
   "cell_type": "code",
   "execution_count": 179,
   "metadata": {
    "collapsed": true
   },
   "outputs": [],
   "source": [
    "%qtconsole"
   ]
  },
  {
   "cell_type": "code",
   "execution_count": null,
   "metadata": {
    "collapsed": true
   },
   "outputs": [],
   "source": [
    "   # if the length the contours tuple returned by cv2.findContours\n",
    "    # is '2' then we are using either OpenCV v2.4, v4-beta, or\n",
    "    # v4-official\n",
    "    if len(cnts) == 2:\n",
    "        cnts = cnts[0]\n",
    "\n",
    "    # if the length of the contours tuple is '3' then we are using\n",
    "    # either OpenCV v3, v4-pre, or v4-alpha\n",
    "    elif len(cnts) == 3:\n",
    "        cnts = cnts[1]"
   ]
  },
  {
   "cell_type": "code",
   "execution_count": 192,
   "metadata": {},
   "outputs": [
    {
     "name": "stdout",
     "output_type": "stream",
     "text": [
      "STEP 1: Edge Detection\n"
     ]
    },
    {
     "ename": "error",
     "evalue": "/io/opencv/modules/highgui/src/window.cpp:583: error: (-2) The function is not implemented. Rebuild the library with Windows, GTK+ 2.x or Carbon support. If you are on Ubuntu or Debian, install libgtk2.0-dev and pkg-config, then re-run cmake or configure script in function cvShowImage\n",
     "output_type": "error",
     "traceback": [
      "\u001b[0;31m---------------------------------------------------------------------------\u001b[0m",
      "\u001b[0;31merror\u001b[0m                                     Traceback (most recent call last)",
      "\u001b[0;32m<ipython-input-192-3bcbf5d5c4a0>\u001b[0m in \u001b[0;36m<module>\u001b[0;34m()\u001b[0m\n\u001b[1;32m     12\u001b[0m \u001b[0;31m# show the original image and the edge detected image\u001b[0m\u001b[0;34m\u001b[0m\u001b[0;34m\u001b[0m\u001b[0m\n\u001b[1;32m     13\u001b[0m \u001b[0;32mprint\u001b[0m\u001b[0;34m(\u001b[0m\u001b[0;34m\"STEP 1: Edge Detection\"\u001b[0m\u001b[0;34m)\u001b[0m\u001b[0;34m\u001b[0m\u001b[0m\n\u001b[0;32m---> 14\u001b[0;31m \u001b[0mcv2\u001b[0m\u001b[0;34m.\u001b[0m\u001b[0mimshow\u001b[0m\u001b[0;34m(\u001b[0m\u001b[0;34m\"Image\"\u001b[0m\u001b[0;34m,\u001b[0m \u001b[0mimage\u001b[0m\u001b[0;34m)\u001b[0m\u001b[0;34m\u001b[0m\u001b[0m\n\u001b[0m\u001b[1;32m     15\u001b[0m \u001b[0mcv2\u001b[0m\u001b[0;34m.\u001b[0m\u001b[0mimshow\u001b[0m\u001b[0;34m(\u001b[0m\u001b[0;34m\"Edged\"\u001b[0m\u001b[0;34m,\u001b[0m \u001b[0medged\u001b[0m\u001b[0;34m)\u001b[0m\u001b[0;34m\u001b[0m\u001b[0m\n\u001b[1;32m     16\u001b[0m \u001b[0mcv2\u001b[0m\u001b[0;34m.\u001b[0m\u001b[0mwaitKey\u001b[0m\u001b[0;34m(\u001b[0m\u001b[0;36m0\u001b[0m\u001b[0;34m)\u001b[0m\u001b[0;34m\u001b[0m\u001b[0m\n",
      "\u001b[0;31merror\u001b[0m: /io/opencv/modules/highgui/src/window.cpp:583: error: (-2) The function is not implemented. Rebuild the library with Windows, GTK+ 2.x or Carbon support. If you are on Ubuntu or Debian, install libgtk2.0-dev and pkg-config, then re-run cmake or configure script in function cvShowImage\n"
     ]
    }
   ],
   "source": [
    "# load the image and compute the ratio of the old height\n",
    "# to the new height, clone it, and resize it\n",
    "image = temperature_plot\n",
    "ratio = image.shape[0] / 500.0\n",
    "orig = image.copy() \n",
    "# convert the image to grayscale, blur it, and find edges\n",
    "# in the image\n",
    "gray = cv2.cvtColor(image, cv2.COLOR_BGR2GRAY)\n",
    "gray = cv2.GaussianBlur(gray, (5, 5), 0)\n",
    "edged = cv2.Canny(gray, 75, 200)\n",
    " \n",
    "# show the original image and the edge detected image\n",
    "print(\"STEP 1: Edge Detection\")\n",
    "cv2.imshow(\"Image\", image)\n",
    "cv2.imshow(\"Edged\", edged)\n",
    "cv2.waitKey(0)\n",
    "cv2.destroyAllWindows()\n",
    "# find the contours in the edged image, keeping only the\n",
    "# largest ones, and initialize the screen contour\n",
    "cnts = cv2.findContours(edged.copy(), cv2.RETR_LIST, cv2.CHAIN_APPROX_SIMPLE)\n",
    "# if the length the contours tuple returned by cv2.findContours\n",
    "# is '2' then we are using either OpenCV v2.4, v4-beta, or\n",
    "# v4-official\n",
    "if len(cnts) == 2:\n",
    "    cnts = cnts[0]\n",
    "\n",
    "# if the length of the contours tuple is '3' then we are using\n",
    "# either OpenCV v3, v4-pre, or v4-alpha\n",
    "elif len(cnts) == 3:\n",
    "    cnts = cnts[1]\n",
    "cnts = sorted(cnts, key = cv2.contourArea, reverse = True)[:5]\n",
    " \n",
    "# loop over the contours\n",
    "for c in cnts:\n",
    "\t# approximate the contour\n",
    "\tperi = cv2.arcLength(c, True)\n",
    "\tapprox = cv2.approxPolyDP(c, 0.02 * peri, True)\n",
    " \n",
    "\t# if our approximated contour has four points, then we\n",
    "\t# can assume that we have found our screen\n",
    "\tif len(approx) == 4:\n",
    "\t\tscreenCnt = approx\n",
    "\t\tbreak\n",
    " \n",
    "# show the contour (outline) of the piece of paper\n",
    "print(\"STEP 2: Find contours of paper\")\n",
    "cv2.drawContours(image, [screenCnt], -1, (0, 255, 0), 2)\n",
    "cv2.imshow(\"Outline\", image)\n",
    "cv2.waitKey(0)\n",
    "cv2.destroyAllWindows()"
   ]
  },
  {
   "cell_type": "code",
   "execution_count": null,
   "metadata": {
    "collapsed": true
   },
   "outputs": [],
   "source": []
  }
 ],
 "metadata": {
  "kernelspec": {
   "display_name": "Python 2",
   "language": "python",
   "name": "python2"
  },
  "language_info": {
   "codemirror_mode": {
    "name": "ipython",
    "version": 2
   },
   "file_extension": ".py",
   "mimetype": "text/x-python",
   "name": "python",
   "nbconvert_exporter": "python",
   "pygments_lexer": "ipython2",
   "version": "2.7.12"
  }
 },
 "nbformat": 4,
 "nbformat_minor": 2
}
